{
 "cells": [
  {
   "cell_type": "code",
   "execution_count": 1,
   "id": "79718f3e",
   "metadata": {},
   "outputs": [],
   "source": [
    "import pandas as pd\n",
    "from sklearn.feature_extraction import DictVectorizer\n",
    "from sklearn.linear_model import LinearRegression\n",
    "from sklearn.metrics import mean_squared_error as mse, root_mean_squared_error as rmse"
   ]
  },
  {
   "cell_type": "code",
   "execution_count": null,
   "id": "a2c16882",
   "metadata": {},
   "outputs": [],
   "source": [
    "jan_2023 = 'https://d37ci6vzurychx.cloudfront.net/trip-data/yellow_tripdata_2023-01.parquet'\n",
    "feb_2023 = 'https://d37ci6vzurychx.cloudfront.net/trip-data/yellow_tripdata_2023-02.parquet'\n",
    "\n",
    "df_jan = pd.read_parquet(jan_2023)\n",
    "df_feb = pd.read_parquet(feb_2023)\n",
    "\n",
    "print(f'Dataset dimensions for January -> {df_jan.shape=}')\n",
    "print(f'Dataset dimensions for February -> {df_feb.shape=}')"
   ]
  },
  {
   "cell_type": "code",
   "execution_count": null,
   "id": "8cb8d43d",
   "metadata": {},
   "outputs": [
    {
     "name": "stdout",
     "output_type": "stream",
     "text": [
      "Standard deviation for January -> 42.59\n"
     ]
    }
   ],
   "source": [
    "df_jan['duration'] = df_jan.tpep_dropoff_datetime - df_jan.tpep_pickup_datetime\n",
    "df_jan.duration = df_jan.duration.apply(lambda td: td.total_seconds() / 60)\n",
    "\n",
    "print(f'Standard deviation for January -> {(df_jan[\"duration\"].std()):.2f}')"
   ]
  },
  {
   "cell_type": "code",
   "execution_count": null,
   "id": "4e1b67da",
   "metadata": {},
   "outputs": [
    {
     "name": "stdout",
     "output_type": "stream",
     "text": [
      "New fraction records -> 98%\n"
     ]
    }
   ],
   "source": [
    "before = df_jan.shape[0]\n",
    "\n",
    "df_jan = df_jan[(df_jan.duration >= 1) & (df_jan.duration <= 60)]\n",
    "after = df_jan.shape[0]\n",
    "\n",
    "print(f'New fraction records -> {(after / before)*100:.0f}%')"
   ]
  },
  {
   "cell_type": "code",
   "execution_count": null,
   "id": "6a1019c0",
   "metadata": {},
   "outputs": [],
   "source": [
    "categorical = ['PULocationID', 'DOLocationID']\n",
    "df_jan[categorical] = df_jan[categorical].astype(str)\n",
    "\n",
    "records = df_jan[categorical].to_dict(orient='records')\n",
    "\n",
    "dv = DictVectorizer()\n",
    "X_train = dv.fit_transform(records)\n",
    "\n",
    "print(f'Dimensionality -> {X_train.shape=}')"
   ]
  },
  {
   "cell_type": "code",
   "execution_count": null,
   "id": "10b94737",
   "metadata": {},
   "outputs": [
    {
     "name": "stdout",
     "output_type": "stream",
     "text": [
      "(MSE) Error calculated with Linear Regression --> 58.5112\n",
      "(RMSE) Error calculated with Linear Regression --> 7.6493\n"
     ]
    }
   ],
   "source": [
    "y_train = df_jan['duration'].values\n",
    "\n",
    "lr = LinearRegression()\n",
    "lr.fit(X_train, y_train)\n",
    "\n",
    "y_pred = lr.predict(X_train)\n",
    "mse_calculated = mse(y_train, y_pred)\n",
    "rmse_calculated = rmse(y_train, y_pred)\n",
    "\n",
    "print(f'(MSE) Error calculated with Linear Regression --> {mse_calculated:.4f}')\n",
    "print(f'(RMSE) Error calculated with Linear Regression --> {rmse_calculated:.4f}')"
   ]
  },
  {
   "cell_type": "markdown",
   "id": "07f43c49",
   "metadata": {},
   "source": [
    "**Final Question ->**"
   ]
  },
  {
   "cell_type": "code",
   "execution_count": 2,
   "id": "449af6d2",
   "metadata": {},
   "outputs": [],
   "source": [
    "def read_dataframe(filename):\n",
    "    if filename.endswith('.csv'):\n",
    "        df = pd.read_parquet(filename)\n",
    "\n",
    "        df.lpep_dropoff_datetime = pd.to_datetime(df.lpep_dropoff_datetime)\n",
    "        df.lpep_pickup_datetime = pd.to_datetime(df.lpep_pickup_datetime)\n",
    "    elif filename.endswith('.parquet'):\n",
    "        df = pd.read_parquet(filename)\n",
    "\n",
    "    df['duration'] = df.tpep_dropoff_datetime - df.tpep_pickup_datetime\n",
    "    df.duration = df.duration.apply(lambda td: td.total_seconds() / 60)\n",
    "\n",
    "    df = df[(df.duration >= 1) & (df.duration <= 60)]\n",
    "\n",
    "    categorical = ['PULocationID', 'DOLocationID']\n",
    "    df[categorical] = df[categorical].astype(str)\n",
    "    \n",
    "    return df\n",
    "\n",
    "\n",
    "def data_pipeline(dataset, dv, type='train'):\n",
    "    categorical = ['PULocationID', 'DOLocationID']\n",
    "\n",
    "    records = dataset[categorical].to_dict(orient='records')\n",
    "\n",
    "    if type == 'train':\n",
    "        X = dv.fit_transform(records)\n",
    "    else:\n",
    "        X = dv.transform(records)\n",
    "\n",
    "    return X"
   ]
  },
  {
   "cell_type": "code",
   "execution_count": 3,
   "id": "7a08c508",
   "metadata": {},
   "outputs": [
    {
     "name": "stdout",
     "output_type": "stream",
     "text": [
      "Train Dataset dimensions -> df_train.shape=(3009173, 20)\n",
      "Validation Dataset dimensions -> df_val.shape=(2855951, 20)\n"
     ]
    }
   ],
   "source": [
    "jan_2023 = 'https://d37ci6vzurychx.cloudfront.net/trip-data/yellow_tripdata_2023-01.parquet'\n",
    "feb_2023 = 'https://d37ci6vzurychx.cloudfront.net/trip-data/yellow_tripdata_2023-02.parquet'\n",
    "\n",
    "df_train = read_dataframe(jan_2023)\n",
    "print(f'Train Dataset dimensions -> {df_train.shape=}')\n",
    "\n",
    "df_val = read_dataframe(feb_2023)\n",
    "print(f'Validation Dataset dimensions -> {df_val.shape=}')"
   ]
  },
  {
   "cell_type": "code",
   "execution_count": 4,
   "id": "13019e19",
   "metadata": {},
   "outputs": [],
   "source": [
    "dv = DictVectorizer()\n",
    "\n",
    "X_train = data_pipeline(df_train, dv, type='train')\n",
    "X_val = data_pipeline(df_val, dv, type='val')\n",
    "\n",
    "y_train = df_train['duration']\n",
    "y_val = df_val['duration']"
   ]
  },
  {
   "cell_type": "code",
   "execution_count": 5,
   "id": "feb982ec",
   "metadata": {},
   "outputs": [
    {
     "name": "stdout",
     "output_type": "stream",
     "text": [
      "(MSE) Error calculated with Linear Regression --> 177.4941\n",
      "(RMSE) Error calculated with Linear Regression --> 13.3227\n"
     ]
    }
   ],
   "source": [
    "lr = LinearRegression()\n",
    "lr.fit(X_train, y_train)\n",
    "\n",
    "y_pred = lr.predict(X_val)\n",
    "mse_calculated = mse(y_val, y_pred)\n",
    "rmse_calculated = rmse(y_val, y_pred)\n",
    "\n",
    "print(f'(MSE) Error calculated with Linear Regression --> {mse_calculated:.4f}')\n",
    "print(f'(RMSE) Error calculated with Linear Regression --> {rmse_calculated:.4f}')"
   ]
  },
  {
   "cell_type": "code",
   "execution_count": null,
   "id": "954a8662",
   "metadata": {},
   "outputs": [],
   "source": []
  }
 ],
 "metadata": {
  "kernelspec": {
   "display_name": "base",
   "language": "python",
   "name": "python3"
  },
  "language_info": {
   "codemirror_mode": {
    "name": "ipython",
    "version": 3
   },
   "file_extension": ".py",
   "mimetype": "text/x-python",
   "name": "python",
   "nbconvert_exporter": "python",
   "pygments_lexer": "ipython3",
   "version": "3.10.16"
  }
 },
 "nbformat": 4,
 "nbformat_minor": 5
}

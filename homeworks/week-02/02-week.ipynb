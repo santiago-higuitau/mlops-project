{
 "cells": [
  {
   "cell_type": "markdown",
   "id": "c0e12779",
   "metadata": {},
   "source": [
    "**Q1 --> Install MLflow**"
   ]
  },
  {
   "cell_type": "code",
   "execution_count": 2,
   "id": "dee3dc54",
   "metadata": {},
   "outputs": [
    {
     "name": "stdout",
     "output_type": "stream",
     "text": [
      "mlflow, version 2.22.1\n"
     ]
    }
   ],
   "source": [
    "!poetry run mlflow --version"
   ]
  },
  {
   "cell_type": "markdown",
   "id": "0d006cbf",
   "metadata": {},
   "source": [
    "**Q2 --> Download and preprocess the data**"
   ]
  },
  {
   "cell_type": "code",
   "execution_count": 13,
   "id": "6410e1e3",
   "metadata": {},
   "outputs": [
    {
     "name": "stdout",
     "output_type": "stream",
     "text": [
      "File to download -> https://d37ci6vzurychx.cloudfront.net/trip-data/green_tripdata_2023-01.parquet\n",
      "File downloaded successfully in -> data/input/green_tripdata_2023-01.parquet\n",
      "File to download -> https://d37ci6vzurychx.cloudfront.net/trip-data/green_tripdata_2023-02.parquet\n",
      "File downloaded successfully in -> data/input/green_tripdata_2023-02.parquet\n",
      "File to download -> https://d37ci6vzurychx.cloudfront.net/trip-data/green_tripdata_2023-03.parquet\n",
      "File downloaded successfully in -> data/input/green_tripdata_2023-03.parquet\n"
     ]
    }
   ],
   "source": [
    "import os\n",
    "import pandas as pd\n",
    "\n",
    "DATA_DIR = f'{os.getcwd()}/data'\n",
    "\n",
    "# download data\n",
    "parquet_files = [\n",
    "    \"https://d37ci6vzurychx.cloudfront.net/trip-data/green_tripdata_2023-01.parquet\",\n",
    "    \"https://d37ci6vzurychx.cloudfront.net/trip-data/green_tripdata_2023-02.parquet\",\n",
    "    \"https://d37ci6vzurychx.cloudfront.net/trip-data/green_tripdata_2023-03.parquet\"\n",
    "]\n",
    "\n",
    "\n",
    "for file in parquet_files:\n",
    "    print(f'File to download -> {file}')\n",
    "    parquet_name = os.path.basename(file)\n",
    "    df = pd.read_parquet(file)\n",
    "\n",
    "    path = f'{DATA_DIR}/input/{parquet_name}'\n",
    "    df.to_parquet(path)\n",
    "    print(f'File downloaded successfully in -> data/input/{parquet_name}')"
   ]
  },
  {
   "cell_type": "code",
   "execution_count": 18,
   "id": "ac3b4e59",
   "metadata": {},
   "outputs": [],
   "source": [
    "TAXI_DATA_FOLDER = f'{DATA_DIR}/input'\n",
    "DEST_PATH = f'{DATA_DIR}/output'"
   ]
  },
  {
   "cell_type": "code",
   "execution_count": 19,
   "id": "759bc697",
   "metadata": {},
   "outputs": [],
   "source": [
    "!poetry run python preprocess_data.py --raw_data_path {TAXI_DATA_FOLDER} --dest_path {DEST_PATH}"
   ]
  },
  {
   "cell_type": "code",
   "execution_count": 21,
   "id": "6a758e6d",
   "metadata": {},
   "outputs": [
    {
     "data": {
      "text/plain": [
       "['dv.pkl', 'test.pkl', 'train.pkl', 'val.pkl']"
      ]
     },
     "execution_count": 21,
     "metadata": {},
     "output_type": "execute_result"
    }
   ],
   "source": [
    "os.listdir(DEST_PATH)"
   ]
  },
  {
   "cell_type": "markdown",
   "id": "472f4046",
   "metadata": {},
   "source": [
    "**Q3 --> Train a model with autolog**"
   ]
  },
  {
   "cell_type": "code",
   "execution_count": 23,
   "id": "78dbb143",
   "metadata": {},
   "outputs": [],
   "source": [
    "EXPERIMENT_NAME = 'homework-2-rf-regression'"
   ]
  },
  {
   "cell_type": "code",
   "execution_count": 25,
   "id": "c0383abf",
   "metadata": {},
   "outputs": [
    {
     "name": "stdout",
     "output_type": "stream",
     "text": [
      "RMSE --> 5.431162180141208\n"
     ]
    },
    {
     "name": "stderr",
     "output_type": "stream",
     "text": [
      "2025/06/09 23:56:46 WARNING mlflow.utils.autologging_utils: MLflow sklearn autologging is known to be compatible with 0.24.1 <= scikit-learn <= 1.6.1, but the installed version is 1.7.0. If you encounter errors during autologging, try upgrading / downgrading scikit-learn to a compatible version, or try upgrading MLflow.\n"
     ]
    }
   ],
   "source": [
    "!poetry run python train.py --data_path {DEST_PATH} --experiment_name {EXPERIMENT_NAME}"
   ]
  },
  {
   "cell_type": "code",
   "execution_count": 38,
   "id": "5bc36406",
   "metadata": {},
   "outputs": [
    {
     "name": "stdout",
     "output_type": "stream",
     "text": [
      "Min samples split parameter -> 2\n"
     ]
    }
   ],
   "source": [
    "import mlflow\n",
    "\n",
    "\n",
    "experiment = mlflow.get_experiment_by_name(EXPERIMENT_NAME)\n",
    "experiment_id = experiment.experiment_id\n",
    "\n",
    "runs_df = mlflow.search_runs(experiment_ids=[experiment_id])\n",
    "run_id = runs_df.loc[0, \"run_id\"]\n",
    "\n",
    "run = mlflow.get_run(run_id)\n",
    "print(f\"Min samples split parameter -> {run.data.params['min_samples_split']}\")"
   ]
  },
  {
   "cell_type": "markdown",
   "id": "35065e91",
   "metadata": {},
   "source": [
    "**Q4 --> Launch the tracking server locally**"
   ]
  },
  {
   "cell_type": "code",
   "execution_count": null,
   "id": "df3eb94a",
   "metadata": {},
   "outputs": [],
   "source": [
    "!poetry run mlflow server --backend-store-uri sqlite:///mlflow.db --default-artifact-root file:./artifacts --port 5000"
   ]
  },
  {
   "cell_type": "markdown",
   "id": "8906dde3",
   "metadata": {},
   "source": [
    "**Q5 --> Tune model hyperparameters**"
   ]
  },
  {
   "cell_type": "code",
   "execution_count": 43,
   "id": "468bce91",
   "metadata": {},
   "outputs": [
    {
     "name": "stdout",
     "output_type": "stream",
     "text": [
      "\n",
      "  0%|          | 0/15 [00:00<?, ?trial/s, best loss=?]\n",
      "                                                      \n",
      "🏃 View run popular-toad-709 at: http://127.0.0.1:5000/#/experiments/3/runs/1fea3372fa1149129382f43d0510b099\n",
      "\n",
      "\n",
      "  0%|          | 0/15 [00:12<?, ?trial/s, best loss=?]\n",
      "                                                      \n",
      "🧪 View experiment at: http://127.0.0.1:5000/#/experiments/3\n",
      "\n",
      "\n",
      "  0%|          | 0/15 [00:12<?, ?trial/s, best loss=?]\n",
      "  7%|▋         | 1/15 [00:12<02:55, 12.54s/trial, best loss: 5.370086069268862]\n",
      "                                                                               \n",
      "🏃 View run intelligent-ray-551 at: http://127.0.0.1:5000/#/experiments/3/runs/41a3ce154cb14c609116a92a583ca5d4\n",
      "\n",
      "\n",
      "  7%|▋         | 1/15 [00:13<02:55, 12.54s/trial, best loss: 5.370086069268862]\n",
      "                                                                               \n",
      "🧪 View experiment at: http://127.0.0.1:5000/#/experiments/3\n",
      "\n",
      "\n",
      "  7%|▋         | 1/15 [00:13<02:55, 12.54s/trial, best loss: 5.370086069268862]\n",
      " 13%|█▎        | 2/15 [00:13<01:11,  5.49s/trial, best loss: 5.370086069268862]\n",
      "                                                                               \n",
      "🏃 View run wise-finch-794 at: http://127.0.0.1:5000/#/experiments/3/runs/35c6731703a245cb9a9d4123d06bd98d\n",
      "\n",
      "\n",
      " 13%|█▎        | 2/15 [00:13<01:11,  5.49s/trial, best loss: 5.370086069268862]\n",
      "                                                                               \n",
      "🧪 View experiment at: http://127.0.0.1:5000/#/experiments/3\n",
      "\n",
      "\n",
      " 13%|█▎        | 2/15 [00:13<01:11,  5.49s/trial, best loss: 5.370086069268862]\n",
      " 20%|██        | 3/15 [00:13<00:40,  3.40s/trial, best loss: 5.370086069268862]\n",
      "                                                                               \n",
      "🏃 View run upbeat-seal-230 at: http://127.0.0.1:5000/#/experiments/3/runs/ede59a6154e04334a4ccc2cb6c457ccf\n",
      "\n",
      "\n",
      " 20%|██        | 3/15 [00:21<00:40,  3.40s/trial, best loss: 5.370086069268862]\n",
      "                                                                               \n",
      "🧪 View experiment at: http://127.0.0.1:5000/#/experiments/3\n",
      "\n",
      "\n",
      " 20%|██        | 3/15 [00:21<00:40,  3.40s/trial, best loss: 5.370086069268862]\n",
      " 27%|██▋       | 4/15 [00:21<00:53,  4.85s/trial, best loss: 5.357490752366866]\n",
      "                                                                               \n",
      "🏃 View run righteous-crab-690 at: http://127.0.0.1:5000/#/experiments/3/runs/51b322a3fea04b5bbf835430db212eef\n",
      "\n",
      "\n",
      " 27%|██▋       | 4/15 [00:24<00:53,  4.85s/trial, best loss: 5.357490752366866]\n",
      "                                                                               \n",
      "🧪 View experiment at: http://127.0.0.1:5000/#/experiments/3\n",
      "\n",
      "\n",
      " 27%|██▋       | 4/15 [00:24<00:53,  4.85s/trial, best loss: 5.357490752366866]\n",
      " 33%|███▎      | 5/15 [00:24<00:42,  4.22s/trial, best loss: 5.357490752366866]\n",
      "                                                                               \n",
      "🏃 View run receptive-foal-314 at: http://127.0.0.1:5000/#/experiments/3/runs/19159a5cd3ea4e11936d4e6e11d19c9f\n",
      "\n",
      "\n",
      " 33%|███▎      | 5/15 [00:34<00:42,  4.22s/trial, best loss: 5.357490752366866]\n",
      "                                                                               \n",
      "🧪 View experiment at: http://127.0.0.1:5000/#/experiments/3\n",
      "\n",
      "\n",
      " 33%|███▎      | 5/15 [00:34<00:42,  4.22s/trial, best loss: 5.357490752366866]\n",
      " 40%|████      | 6/15 [00:34<00:57,  6.35s/trial, best loss: 5.35469507253029] \n",
      "                                                                              \n",
      "🏃 View run abrasive-slug-627 at: http://127.0.0.1:5000/#/experiments/3/runs/59faab3fa3314c8b893d87f9eafcf01d\n",
      "\n",
      "\n",
      " 40%|████      | 6/15 [00:47<00:57,  6.35s/trial, best loss: 5.35469507253029]\n",
      "                                                                              \n",
      "🧪 View experiment at: http://127.0.0.1:5000/#/experiments/3\n",
      "\n",
      "\n",
      " 40%|████      | 6/15 [00:47<00:57,  6.35s/trial, best loss: 5.35469507253029]\n",
      " 47%|████▋     | 7/15 [00:47<01:06,  8.33s/trial, best loss: 5.35469507253029]\n",
      "                                                                              \n",
      "🏃 View run angry-tern-256 at: http://127.0.0.1:5000/#/experiments/3/runs/c0053287ee4044e084278c977f9de58b\n",
      "\n",
      "\n",
      " 47%|████▋     | 7/15 [00:48<01:06,  8.33s/trial, best loss: 5.35469507253029]\n",
      "                                                                              \n",
      "🧪 View experiment at: http://127.0.0.1:5000/#/experiments/3\n",
      "\n",
      "\n",
      " 47%|████▋     | 7/15 [00:48<01:06,  8.33s/trial, best loss: 5.35469507253029]\n",
      " 53%|█████▎    | 8/15 [00:48<00:42,  6.14s/trial, best loss: 5.35469507253029]\n",
      "                                                                              \n",
      "🏃 View run marvelous-ox-781 at: http://127.0.0.1:5000/#/experiments/3/runs/aa6e6d2fe46f473d82ffacf48e9871da\n",
      "\n",
      "\n",
      " 53%|█████▎    | 8/15 [00:55<00:42,  6.14s/trial, best loss: 5.35469507253029]\n",
      "                                                                              \n",
      "🧪 View experiment at: http://127.0.0.1:5000/#/experiments/3\n",
      "\n",
      "\n",
      " 53%|█████▎    | 8/15 [00:55<00:42,  6.14s/trial, best loss: 5.35469507253029]\n",
      " 60%|██████    | 9/15 [00:55<00:39,  6.56s/trial, best loss: 5.35469507253029]\n",
      "                                                                              \n",
      "🏃 View run shivering-squid-965 at: http://127.0.0.1:5000/#/experiments/3/runs/9e7364f0a85a44699518c9fb016b6f6b\n",
      "\n",
      "\n",
      " 60%|██████    | 9/15 [01:02<00:39,  6.56s/trial, best loss: 5.35469507253029]\n",
      "                                                                              \n",
      "🧪 View experiment at: http://127.0.0.1:5000/#/experiments/3\n",
      "\n",
      "\n",
      " 60%|██████    | 9/15 [01:02<00:39,  6.56s/trial, best loss: 5.35469507253029]\n",
      " 67%|██████▋   | 10/15 [01:02<00:32,  6.42s/trial, best loss: 5.35469507253029]\n",
      "                                                                               \n",
      "🏃 View run aged-shark-699 at: http://127.0.0.1:5000/#/experiments/3/runs/cbdca156ba554daa978ca107355034ad\n",
      "\n",
      "\n",
      " 67%|██████▋   | 10/15 [01:06<00:32,  6.42s/trial, best loss: 5.35469507253029]\n",
      "                                                                               \n",
      "🧪 View experiment at: http://127.0.0.1:5000/#/experiments/3\n",
      "\n",
      "\n",
      " 67%|██████▋   | 10/15 [01:06<00:32,  6.42s/trial, best loss: 5.35469507253029]\n",
      " 73%|███████▎  | 11/15 [01:06<00:23,  5.86s/trial, best loss: 5.335419588556921]\n",
      "                                                                                \n",
      "🏃 View run luxuriant-smelt-19 at: http://127.0.0.1:5000/#/experiments/3/runs/a1406ede17af4a86b2ccf6253f02999f\n",
      "\n",
      "\n",
      " 73%|███████▎  | 11/15 [01:10<00:23,  5.86s/trial, best loss: 5.335419588556921]\n",
      "                                                                                \n",
      "🧪 View experiment at: http://127.0.0.1:5000/#/experiments/3\n",
      "\n",
      "\n",
      " 73%|███████▎  | 11/15 [01:10<00:23,  5.86s/trial, best loss: 5.335419588556921]\n",
      " 80%|████████  | 12/15 [01:10<00:15,  5.26s/trial, best loss: 5.335419588556921]\n",
      "                                                                                \n",
      "🏃 View run monumental-mole-128 at: http://127.0.0.1:5000/#/experiments/3/runs/1cccb5e15aa743eaa2004059b50662e9\n",
      "\n",
      "\n",
      " 80%|████████  | 12/15 [01:11<00:15,  5.26s/trial, best loss: 5.335419588556921]\n",
      "                                                                                \n",
      "🧪 View experiment at: http://127.0.0.1:5000/#/experiments/3\n",
      "\n",
      "\n",
      " 80%|████████  | 12/15 [01:11<00:15,  5.26s/trial, best loss: 5.335419588556921]\n",
      " 87%|████████▋ | 13/15 [01:11<00:08,  4.04s/trial, best loss: 5.335419588556921]\n",
      "                                                                                \n",
      "🏃 View run zealous-roo-415 at: http://127.0.0.1:5000/#/experiments/3/runs/ad2a5e03a7a04e33bf08c06d390586b0\n",
      "\n",
      "\n",
      " 87%|████████▋ | 13/15 [01:15<00:08,  4.04s/trial, best loss: 5.335419588556921]\n",
      "                                                                                \n",
      "🧪 View experiment at: http://127.0.0.1:5000/#/experiments/3\n",
      "\n",
      "\n",
      " 87%|████████▋ | 13/15 [01:15<00:08,  4.04s/trial, best loss: 5.335419588556921]\n",
      " 93%|█████████▎| 14/15 [01:15<00:04,  4.03s/trial, best loss: 5.335419588556921]\n",
      "                                                                                \n",
      "🏃 View run spiffy-vole-855 at: http://127.0.0.1:5000/#/experiments/3/runs/9b312aa01970466c88b38b33123428c7\n",
      "\n",
      "\n",
      " 93%|█████████▎| 14/15 [01:22<00:04,  4.03s/trial, best loss: 5.335419588556921]\n",
      "                                                                                \n",
      "🧪 View experiment at: http://127.0.0.1:5000/#/experiments/3\n",
      "\n",
      "\n",
      " 93%|█████████▎| 14/15 [01:22<00:04,  4.03s/trial, best loss: 5.335419588556921]\n",
      "100%|██████████| 15/15 [01:22<00:00,  4.79s/trial, best loss: 5.335419588556921]\n",
      "100%|██████████| 15/15 [01:22<00:00,  5.49s/trial, best loss: 5.335419588556921]\n"
     ]
    },
    {
     "name": "stderr",
     "output_type": "stream",
     "text": [
      "C:\\Users\\ASUS\\Desktop\\Projects\\mlops-project\\.venv\\Lib\\site-packages\\hyperopt\\atpe.py:19: UserWarning: pkg_resources is deprecated as an API. See https://setuptools.pypa.io/en/latest/pkg_resources.html. The pkg_resources package is slated for removal as early as 2025-11-30. Refrain from using this package or pin to Setuptools<81.\n",
      "  import pkg_resources\n",
      "2025/06/10 00:23:41 INFO mlflow.tracking.fluent: Experiment with name 'random-forest-hyperopt' does not exist. Creating a new experiment.\n"
     ]
    }
   ],
   "source": [
    "!poetry run python hpo.py --data_path {DEST_PATH}"
   ]
  },
  {
   "cell_type": "code",
   "execution_count": 51,
   "id": "b3b36606",
   "metadata": {},
   "outputs": [],
   "source": [
    "mlflow.set_tracking_uri(\"http://127.0.0.1:5001\")"
   ]
  },
  {
   "cell_type": "code",
   "execution_count": 76,
   "id": "bbbd11b5",
   "metadata": {},
   "outputs": [
    {
     "name": "stdout",
     "output_type": "stream",
     "text": [
      "Parameters -> {'max_depth': '19', 'min_samples_leaf': '2', 'min_samples_split': '2', 'n_estimators': '11', 'random_state': '42'}\n",
      "RMSE calculated -> {'rmse': 5.335419588556921}\n"
     ]
    }
   ],
   "source": [
    "experiment = mlflow.get_experiment_by_name('random-forest-hyperopt')\n",
    "experiment_id = experiment.experiment_id\n",
    "\n",
    "runs_df = mlflow.search_runs(experiment_ids=[experiment_id])\n",
    "\n",
    "\n",
    "best_run = runs_df.sort_values(by='metrics.rmse').head(1)\n",
    "run_id = best_run.reset_index(drop=True).loc[0, \"run_id\"]\n",
    "run = mlflow.get_run(run_id)\n",
    "\n",
    "print(f'Parameters -> {run.data.params}')\n",
    "print(f'RMSE calculated -> {run.data.metrics}')"
   ]
  },
  {
   "cell_type": "markdown",
   "id": "feddd1fc",
   "metadata": {},
   "source": [
    "**Q6 --> Promote the best model to the model registry**"
   ]
  },
  {
   "cell_type": "code",
   "execution_count": 81,
   "id": "79ac180d",
   "metadata": {},
   "outputs": [
    {
     "name": "stdout",
     "output_type": "stream",
     "text": [
      "🏃 View run gifted-moose-826 at: http://127.0.0.1:5001/#/experiments/4/runs/ccd86de70e6e48b7b18442c268bf4aa6\n",
      "🧪 View experiment at: http://127.0.0.1:5001/#/experiments/4\n",
      "🏃 View run dapper-lark-591 at: http://127.0.0.1:5001/#/experiments/4/runs/d656e812f228403a8ff0a2f2c91867f9\n",
      "🧪 View experiment at: http://127.0.0.1:5001/#/experiments/4\n",
      "🏃 View run handsome-snake-877 at: http://127.0.0.1:5001/#/experiments/4/runs/1c6cafef3d9148acb06dd421918100c3\n",
      "🧪 View experiment at: http://127.0.0.1:5001/#/experiments/4\n",
      "🏃 View run thoughtful-hawk-667 at: http://127.0.0.1:5001/#/experiments/4/runs/30e9be00676946f99c4913324c8b173f\n",
      "🧪 View experiment at: http://127.0.0.1:5001/#/experiments/4\n",
      "🏃 View run nosy-vole-536 at: http://127.0.0.1:5001/#/experiments/4/runs/903ab4b10a0842c6a6582efe1175b313\n",
      "🧪 View experiment at: http://127.0.0.1:5001/#/experiments/4\n",
      "Modelo registrado: random-forest-regressor, versión 1\n"
     ]
    },
    {
     "name": "stderr",
     "output_type": "stream",
     "text": [
      "2025/06/10 00:49:55 INFO mlflow.tracking.fluent: Experiment with name 'random-forest-best-models' does not exist. Creating a new experiment.\n",
      "2025/06/10 00:49:55 WARNING mlflow.utils.autologging_utils: MLflow sklearn autologging is known to be compatible with 0.24.1 <= scikit-learn <= 1.6.1, but the installed version is 1.7.0. If you encounter errors during autologging, try upgrading / downgrading scikit-learn to a compatible version, or try upgrading MLflow.\n",
      "Successfully registered model 'random-forest-regressor'.\n",
      "2025/06/10 00:51:22 INFO mlflow.store.model_registry.abstract_store: Waiting up to 300 seconds for model version to finish creation. Model name: random-forest-regressor, version 1\n",
      "Created version '1' of model 'random-forest-regressor'.\n"
     ]
    }
   ],
   "source": [
    "!poetry run python register_model.py --data_path {DEST_PATH}"
   ]
  },
  {
   "cell_type": "code",
   "execution_count": 87,
   "id": "c5c64991",
   "metadata": {},
   "outputs": [
    {
     "name": "stdout",
     "output_type": "stream",
     "text": [
      "Parameters -> {'bootstrap': 'True', 'ccp_alpha': '0.0', 'criterion': 'squared_error', 'max_depth': '19', 'max_features': '1.0', 'max_leaf_nodes': 'None', 'max_samples': 'None', 'min_impurity_decrease': '0.0', 'min_samples_leaf': '2', 'min_samples_split': '2', 'min_weight_fraction_leaf': '0.0', 'monotonic_cst': 'None', 'n_estimators': '11', 'n_jobs': 'None', 'oob_score': 'False', 'random_state': '42', 'verbose': '0', 'warm_start': 'False'}\n",
      "RMSE calculated -> 5.567408012462019\n"
     ]
    }
   ],
   "source": [
    "experiment = mlflow.get_experiment_by_name('random-forest-best-models')\n",
    "experiment_id = experiment.experiment_id\n",
    "\n",
    "runs_df = mlflow.search_runs(experiment_ids=[experiment_id])\n",
    "\n",
    "\n",
    "best_run = runs_df.sort_values(by='metrics.test_rmse').head(1)\n",
    "run_id = best_run.reset_index(drop=True).loc[0, \"run_id\"]\n",
    "run = mlflow.get_run(run_id)\n",
    "\n",
    "print(f'Parameters -> {run.data.params}')\n",
    "print(f'RMSE calculated -> {run.data.metrics['test_rmse']}')"
   ]
  },
  {
   "cell_type": "code",
   "execution_count": null,
   "id": "400b4309",
   "metadata": {},
   "outputs": [],
   "source": []
  }
 ],
 "metadata": {
  "kernelspec": {
   "display_name": ".venv",
   "language": "python",
   "name": "python3"
  },
  "language_info": {
   "codemirror_mode": {
    "name": "ipython",
    "version": 3
   },
   "file_extension": ".py",
   "mimetype": "text/x-python",
   "name": "python",
   "nbconvert_exporter": "python",
   "pygments_lexer": "ipython3",
   "version": "3.12.3"
  }
 },
 "nbformat": 4,
 "nbformat_minor": 5
}

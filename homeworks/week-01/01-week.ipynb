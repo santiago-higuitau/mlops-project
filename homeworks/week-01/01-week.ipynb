{
 "cells": [
  {
   "cell_type": "code",
   "execution_count": 1,
   "id": "79718f3e",
   "metadata": {},
   "outputs": [],
   "source": [
    "import pandas as pd\n",
    "from sklearn.feature_extraction import DictVectorizer\n",
    "from sklearn.linear_model import LinearRegression\n",
    "from sklearn.metrics import mean_squared_error as mse, root_mean_squared_error as rmse"
   ]
  },
  {
   "cell_type": "code",
   "execution_count": 2,
   "id": "a2c16882",
   "metadata": {},
   "outputs": [
    {
     "name": "stdout",
     "output_type": "stream",
     "text": [
      "Dataset dimensions for January -> df_jan.shape=(3066766, 19)\n",
      "Dataset dimensions for February -> df_feb.shape=(2913955, 19)\n"
     ]
    }
   ],
   "source": [
    "jan_2023 = 'https://d37ci6vzurychx.cloudfront.net/trip-data/yellow_tripdata_2023-01.parquet'\n",
    "feb_2023 = 'https://d37ci6vzurychx.cloudfront.net/trip-data/yellow_tripdata_2023-02.parquet'\n",
    "\n",
    "\n",
    "df_jan = pd.read_parquet(jan_2023)\n",
    "df_feb = pd.read_parquet(feb_2023)\n",
    "\n",
    "print(f'Dataset dimensions for January -> {df_jan.shape=}')\n",
    "print(f'Dataset dimensions for February -> {df_feb.shape=}')"
   ]
  },
  {
   "cell_type": "code",
   "execution_count": 3,
   "id": "8cb8d43d",
   "metadata": {},
   "outputs": [
    {
     "name": "stdout",
     "output_type": "stream",
     "text": [
      "Standard deviation for January -> 42.59\n"
     ]
    }
   ],
   "source": [
    "df_jan['duration'] = df_jan.tpep_dropoff_datetime - df_jan.tpep_pickup_datetime\n",
    "df_jan.duration = df_jan.duration.apply(lambda td: td.total_seconds() / 60)\n",
    "\n",
    "print(f'Standard deviation for January -> {(df_jan[\"duration\"].std()):.2f}')"
   ]
  },
  {
   "cell_type": "code",
   "execution_count": 4,
   "id": "4e1b67da",
   "metadata": {},
   "outputs": [
    {
     "name": "stdout",
     "output_type": "stream",
     "text": [
      "New fraction records -> 98%\n"
     ]
    }
   ],
   "source": [
    "before = df_jan.shape[0]\n",
    "\n",
    "df_jan = df_jan[(df_jan.duration >= 1) & (df_jan.duration <= 60)]\n",
    "after = df_jan.shape[0]\n",
    "\n",
    "print(f'New fraction records -> {(after / before)*100:.0f}%')"
   ]
  },
  {
   "cell_type": "code",
   "execution_count": 5,
   "id": "6a1019c0",
   "metadata": {},
   "outputs": [
    {
     "name": "stdout",
     "output_type": "stream",
     "text": [
      "Dimensionality -> X_train.shape=(3009173, 515)\n"
     ]
    }
   ],
   "source": [
    "categorical = ['PULocationID', 'DOLocationID']\n",
    "df_jan[categorical] = df_jan[categorical].astype(str)\n",
    "\n",
    "records = df_jan[categorical].to_dict(orient='records')\n",
    "\n",
    "dv = DictVectorizer()\n",
    "X_train = dv.fit_transform(records)\n",
    "\n",
    "print(f'Dimensionality -> {X_train.shape=}')"
   ]
  },
  {
   "cell_type": "code",
   "execution_count": 6,
   "id": "10b94737",
   "metadata": {},
   "outputs": [
    {
     "name": "stdout",
     "output_type": "stream",
     "text": [
      "(MSE) Error calculated with Linear Regression --> 58.5112\n",
      "(RMSE) Error calculated with Linear Regression --> 7.6493\n"
     ]
    }
   ],
   "source": [
    "target = 'duration'\n",
    "y_train = df_jan[target].values\n",
    "\n",
    "lr = LinearRegression()\n",
    "lr.fit(X_train, y_train)\n",
    "\n",
    "y_train_pred = lr.predict(X_train)\n",
    "mse_calculated = mse(y_train, y_train_pred)\n",
    "rmse_calculated = rmse(y_train, y_train_pred)\n",
    "\n",
    "print(f'(MSE) Error calculated with Linear Regression --> {mse_calculated:.4f}')\n",
    "print(f'(RMSE) Error calculated with Linear Regression --> {rmse_calculated:.4f}')"
   ]
  },
  {
   "cell_type": "markdown",
   "id": "07f43c49",
   "metadata": {},
   "source": [
    "**Final Question ->**"
   ]
  },
  {
   "cell_type": "code",
   "execution_count": 7,
   "id": "9e929dba",
   "metadata": {},
   "outputs": [],
   "source": [
    "df_feb['duration'] = df_feb.tpep_dropoff_datetime - df_feb.tpep_pickup_datetime\n",
    "df_feb.duration = df_feb.duration.apply(lambda td: td.total_seconds() / 60)\n",
    "df_feb = df_feb[(df_feb.duration >= 1) & (df_feb.duration <= 60)]"
   ]
  },
  {
   "cell_type": "code",
   "execution_count": 8,
   "id": "13019e19",
   "metadata": {},
   "outputs": [],
   "source": [
    "df_feb[categorical] = df_feb[categorical].astype(str)\n",
    "val_records = df_feb[categorical].to_dict(orient='records')\n",
    "\n",
    "X_val = dv.transform(val_records)\n",
    "y_val = df_feb[target].values"
   ]
  },
  {
   "cell_type": "code",
   "execution_count": 9,
   "id": "feb982ec",
   "metadata": {},
   "outputs": [
    {
     "name": "stdout",
     "output_type": "stream",
     "text": [
      "(MSE) Error calculated with Linear Regression --> 61.0245\n",
      "(RMSE) Error calculated with Linear Regression --> 7.8118\n"
     ]
    }
   ],
   "source": [
    "y_val_pred = lr.predict(X_val)\n",
    "val_mse_calculated = mse(y_val, y_val_pred)\n",
    "val_rmse_calculated = rmse(y_val, y_val_pred)\n",
    "\n",
    "print(f'(MSE) Error calculated with Linear Regression --> {val_mse_calculated:.4f}')\n",
    "print(f'(RMSE) Error calculated with Linear Regression --> {val_rmse_calculated:.4f}')"
   ]
  },
  {
   "cell_type": "code",
   "execution_count": null,
   "id": "6d6cec24",
   "metadata": {},
   "outputs": [],
   "source": []
  }
 ],
 "metadata": {
  "kernelspec": {
   "display_name": ".venv",
   "language": "python",
   "name": "python3"
  },
  "language_info": {
   "codemirror_mode": {
    "name": "ipython",
    "version": 3
   },
   "file_extension": ".py",
   "mimetype": "text/x-python",
   "name": "python",
   "nbconvert_exporter": "python",
   "pygments_lexer": "ipython3",
   "version": "3.12.3"
  }
 },
 "nbformat": 4,
 "nbformat_minor": 5
}
